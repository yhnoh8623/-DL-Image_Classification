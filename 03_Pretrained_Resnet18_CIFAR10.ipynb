{
 "cells": [
  {
   "cell_type": "markdown",
   "id": "9f9ca284",
   "metadata": {},
   "source": [
    "### Import Torch"
   ]
  },
  {
   "cell_type": "code",
   "execution_count": 21,
   "id": "db9a3604",
   "metadata": {},
   "outputs": [
    {
     "name": "stdout",
     "output_type": "stream",
     "text": [
      "cpu\n"
     ]
    }
   ],
   "source": [
    "import torch\n",
    "\n",
    "# Device configuration\n",
    "device = torch.device('cuda' if torch.cuda.is_available() else 'cpu')\n",
    "print(device)"
   ]
  },
  {
   "cell_type": "markdown",
   "id": "2f8557de",
   "metadata": {},
   "source": [
    "### Download CIFAR-10 dataset"
   ]
  },
  {
   "cell_type": "code",
   "execution_count": 22,
   "id": "4c41abe0",
   "metadata": {},
   "outputs": [
    {
     "name": "stdout",
     "output_type": "stream",
     "text": [
      "Files already downloaded and verified\n"
     ]
    }
   ],
   "source": [
    "import torchvision\n",
    "from torchvision import datasets\n",
    "from torchvision.transforms import ToTensor\n",
    "\n",
    "train_data = datasets.CIFAR10(\n",
    "    root = './data',\n",
    "    train = True,                         \n",
    "    transform = ToTensor(), \n",
    "    download = True,            \n",
    ")\n",
    "test_data = datasets.CIFAR10(\n",
    "    root = './data', \n",
    "    train = False, \n",
    "    transform = ToTensor()\n",
    ")"
   ]
  },
  {
   "cell_type": "markdown",
   "id": "a9e1414b",
   "metadata": {},
   "source": [
    "### Visualize CIFAR-10 dataset"
   ]
  },
  {
   "cell_type": "code",
   "execution_count": 23,
   "id": "a5135460",
   "metadata": {},
   "outputs": [
    {
     "data": {
      "image/png": "[encoded data removed]",
      "text/plain": [
       "<Figure size 640x480 with 1 Axes>"
      ]
     },
     "metadata": {},
     "output_type": "display_data"
    },
    {
     "name": "stdout",
     "output_type": "stream",
     "text": [
      "frog\n"
     ]
    }
   ],
   "source": [
    "import matplotlib.pyplot as plt\n",
    "import numpy as np\n",
    "\n",
    "classes = ('plane', 'car', 'bird', 'cat',\n",
    "           'deer', 'dog', 'frog', 'horse', 'ship', 'truck')\n",
    "\n",
    "def imshow(img):\n",
    "    img = img / 2 + 0.5     # unnormalize\n",
    "    npimg = img.numpy()\n",
    "    plt.imshow(np.transpose(npimg, (1, 2, 0)))\n",
    "    plt.show()\n",
    "\n",
    "sample_idx = torch.randint(len(train_data), size=(1,)).item()\n",
    "img, label = train_data[sample_idx]\n",
    "imshow(torchvision.utils.make_grid(img))\n",
    "print(f'{classes[label]}')"
   ]
  },
  {
   "cell_type": "markdown",
   "id": "af577830",
   "metadata": {},
   "source": [
    "### Split the training dataset into training and validation datasets"
   ]
  },
  {
   "cell_type": "code",
   "execution_count": 24,
   "id": "c7a6680e",
   "metadata": {},
   "outputs": [
    {
     "name": "stdout",
     "output_type": "stream",
     "text": [
      "torch.Size([3, 32, 32])\n"
     ]
    }
   ],
   "source": [
    "from sklearn.model_selection import train_test_split\n",
    "\n",
    "# your code here\n",
    "train_data, val_data = train_test_split(train_data, test_size = 0.1, random_state = 123, shuffle = True)\n",
    "print(train_data[0][0].size())"
   ]
  },
  {
   "cell_type": "markdown",
   "id": "7c47cff3",
   "metadata": {},
   "source": [
    "### Prepare for the datasets using dataloader"
   ]
  },
  {
   "cell_type": "code",
   "execution_count": 25,
   "id": "97748f81",
   "metadata": {},
   "outputs": [],
   "source": [
    "from torch.utils.data import DataLoader\n",
    "\n",
    "loaders = {\n",
    "    'train' : torch.utils.data.DataLoader(train_data, \n",
    "                                          batch_size=100, \n",
    "                                          shuffle=True, \n",
    "                                          num_workers=1),\n",
    "    'val'  : torch.utils.data.DataLoader(val_data, \n",
    "                                          batch_size=100, \n",
    "                                          shuffle=False, \n",
    "                                          num_workers=1),\n",
    "    'test'  : torch.utils.data.DataLoader(test_data, \n",
    "                                          batch_size=100, \n",
    "                                          shuffle=False, \n",
    "                                          num_workers=1),\n",
    "}"
   ]
  },
  {
   "cell_type": "markdown",
   "id": "50d16e0f",
   "metadata": {},
   "source": [
    "### Import nn module and pre-trained resent18 from torch"
   ]
  },
  {
   "cell_type": "code",
   "execution_count": 26,
   "id": "ee0eec7e",
   "metadata": {},
   "outputs": [],
   "source": [
    "from torch import nn\n",
    "import torch.nn.functional as F\n",
    "from torchvision.models import resnet18, ResNet18_Weights"
   ]
  },
  {
   "cell_type": "markdown",
   "id": "1ce0003c",
   "metadata": {},
   "source": [
    "### Set hyperparameters"
   ]
  },
  {
   "cell_type": "code",
   "execution_count": 27,
   "id": "e1681ea0",
   "metadata": {},
   "outputs": [],
   "source": [
    "# Set hyperparameters before building the model\n",
    "num_classes = 10\n",
    "batch_size = 100\n",
    "num_epochs = 5 #너무 오래걸려서 epoch 5가 나을듯.\n",
    "learning_rate = 0.01 "
   ]
  },
  {
   "cell_type": "markdown",
   "id": "daab6dba",
   "metadata": {},
   "source": [
    "### Build a pretrained ResNet with FC layer for image classification task"
   ]
  },
  {
   "cell_type": "code",
   "execution_count": 31,
   "id": "28dfcba8",
   "metadata": {},
   "outputs": [
    {
     "name": "stdout",
     "output_type": "stream",
     "text": [
      "Resnet18(\n",
      "  (rnet): ResNet(\n",
      "    (conv1): Conv2d(3, 64, kernel_size=(7, 7), stride=(2, 2), padding=(3, 3), bias=False)\n",
      "    (bn1): BatchNorm2d(64, eps=1e-05, momentum=0.1, affine=True, track_running_stats=True)\n",
      "    (relu): ReLU(inplace=True)\n",
      "    (maxpool): MaxPool2d(kernel_size=3, stride=2, padding=1, dilation=1, ceil_mode=False)\n",
      "    (layer1): Sequential(\n",
      "      (0): BasicBlock(\n",
      "        (conv1): Conv2d(64, 64, kernel_size=(3, 3), stride=(1, 1), padding=(1, 1), bias=False)\n",
      "        (bn1): BatchNorm2d(64, eps=1e-05, momentum=0.1, affine=True, track_running_stats=True)\n",
      "        (relu): ReLU(inplace=True)\n",
      "        (conv2): Conv2d(64, 64, kernel_size=(3, 3), stride=(1, 1), padding=(1, 1), bias=False)\n",
      "        (bn2): BatchNorm2d(64, eps=1e-05, momentum=0.1, affine=True, track_running_stats=True)\n",
      "      )\n",
      "      (1): BasicBlock(\n",
      "        (conv1): Conv2d(64, 64, kernel_size=(3, 3), stride=(1, 1), padding=(1, 1), bias=False)\n",
      "        (bn1): BatchNorm2d(64, eps=1e-05, momentum=0.1, affine=True, track_running_stats=True)\n",
      "        (relu): ReLU(inplace=True)\n",
      "        (conv2): Conv2d(64, 64, kernel_size=(3, 3), stride=(1, 1), padding=(1, 1), bias=False)\n",
      "        (bn2): BatchNorm2d(64, eps=1e-05, momentum=0.1, affine=True, track_running_stats=True)\n",
      "      )\n",
      "    )\n",
      "    (layer2): Sequential(\n",
      "      (0): BasicBlock(\n",
      "        (conv1): Conv2d(64, 128, kernel_size=(3, 3), stride=(2, 2), padding=(1, 1), bias=False)\n",
      "        (bn1): BatchNorm2d(128, eps=1e-05, momentum=0.1, affine=True, track_running_stats=True)\n",
      "        (relu): ReLU(inplace=True)\n",
      "        (conv2): Conv2d(128, 128, kernel_size=(3, 3), stride=(1, 1), padding=(1, 1), bias=False)\n",
      "        (bn2): BatchNorm2d(128, eps=1e-05, momentum=0.1, affine=True, track_running_stats=True)\n",
      "        (downsample): Sequential(\n",
      "          (0): Conv2d(64, 128, kernel_size=(1, 1), stride=(2, 2), bias=False)\n",
      "          (1): BatchNorm2d(128, eps=1e-05, momentum=0.1, affine=True, track_running_stats=True)\n",
      "        )\n",
      "      )\n",
      "      (1): BasicBlock(\n",
      "        (conv1): Conv2d(128, 128, kernel_size=(3, 3), stride=(1, 1), padding=(1, 1), bias=False)\n",
      "        (bn1): BatchNorm2d(128, eps=1e-05, momentum=0.1, affine=True, track_running_stats=True)\n",
      "        (relu): ReLU(inplace=True)\n",
      "        (conv2): Conv2d(128, 128, kernel_size=(3, 3), stride=(1, 1), padding=(1, 1), bias=False)\n",
      "        (bn2): BatchNorm2d(128, eps=1e-05, momentum=0.1, affine=True, track_running_stats=True)\n",
      "      )\n",
      "    )\n",
      "    (layer3): Sequential(\n",
      "      (0): BasicBlock(\n",
      "        (conv1): Conv2d(128, 256, kernel_size=(3, 3), stride=(2, 2), padding=(1, 1), bias=False)\n",
      "        (bn1): BatchNorm2d(256, eps=1e-05, momentum=0.1, affine=True, track_running_stats=True)\n",
      "        (relu): ReLU(inplace=True)\n",
      "        (conv2): Conv2d(256, 256, kernel_size=(3, 3), stride=(1, 1), padding=(1, 1), bias=False)\n",
      "        (bn2): BatchNorm2d(256, eps=1e-05, momentum=0.1, affine=True, track_running_stats=True)\n",
      "        (downsample): Sequential(\n",
      "          (0): Conv2d(128, 256, kernel_size=(1, 1), stride=(2, 2), bias=False)\n",
      "          (1): BatchNorm2d(256, eps=1e-05, momentum=0.1, affine=True, track_running_stats=True)\n",
      "        )\n",
      "      )\n",
      "      (1): BasicBlock(\n",
      "        (conv1): Conv2d(256, 256, kernel_size=(3, 3), stride=(1, 1), padding=(1, 1), bias=False)\n",
      "        (bn1): BatchNorm2d(256, eps=1e-05, momentum=0.1, affine=True, track_running_stats=True)\n",
      "        (relu): ReLU(inplace=True)\n",
      "        (conv2): Conv2d(256, 256, kernel_size=(3, 3), stride=(1, 1), padding=(1, 1), bias=False)\n",
      "        (bn2): BatchNorm2d(256, eps=1e-05, momentum=0.1, affine=True, track_running_stats=True)\n",
      "      )\n",
      "    )\n",
      "    (layer4): Sequential(\n",
      "      (0): BasicBlock(\n",
      "        (conv1): Conv2d(256, 512, kernel_size=(3, 3), stride=(2, 2), padding=(1, 1), bias=False)\n",
      "        (bn1): BatchNorm2d(512, eps=1e-05, momentum=0.1, affine=True, track_running_stats=True)\n",
      "        (relu): ReLU(inplace=True)\n",
      "        (conv2): Conv2d(512, 512, kernel_size=(3, 3), stride=(1, 1), padding=(1, 1), bias=False)\n",
      "        (bn2): BatchNorm2d(512, eps=1e-05, momentum=0.1, affine=True, track_running_stats=True)\n",
      "        (downsample): Sequential(\n",
      "          (0): Conv2d(256, 512, kernel_size=(1, 1), stride=(2, 2), bias=False)\n",
      "          (1): BatchNorm2d(512, eps=1e-05, momentum=0.1, affine=True, track_running_stats=True)\n",
      "        )\n",
      "      )\n",
      "      (1): BasicBlock(\n",
      "        (conv1): Conv2d(512, 512, kernel_size=(3, 3), stride=(1, 1), padding=(1, 1), bias=False)\n",
      "        (bn1): BatchNorm2d(512, eps=1e-05, momentum=0.1, affine=True, track_running_stats=True)\n",
      "        (relu): ReLU(inplace=True)\n",
      "        (conv2): Conv2d(512, 512, kernel_size=(3, 3), stride=(1, 1), padding=(1, 1), bias=False)\n",
      "        (bn2): BatchNorm2d(512, eps=1e-05, momentum=0.1, affine=True, track_running_stats=True)\n",
      "      )\n",
      "    )\n",
      "    (avgpool): AdaptiveAvgPool2d(output_size=(1, 1))\n",
      "    (fc): Linear(in_features=512, out_features=10, bias=True)\n",
      "  )\n",
      ")\n"
     ]
    }
   ],
   "source": [
    "import torchvision.models as models\n",
    "\n",
    "class Resnet18(nn.Module):\n",
    "    def __init__(self, num_classes):\n",
    "        super().__init__()\n",
    "        # your code here\n",
    "        self.rnet = models.resnet18(weights=True)\n",
    "        ftrs = self.rnet.fc.in_features\n",
    "        self.rnet.fc = nn.Linear(ftrs , num_classes)\n",
    "\n",
    "\n",
    "    def forward(self, x):\n",
    "        # your code here\n",
    "        x = self.rnet(x)\n",
    "        return x# your code here\n",
    "    \n",
    "\n",
    "model = Resnet18(num_classes).to(device)\n",
    "print(model)"
   ]
  },
  {
   "cell_type": "markdown",
   "id": "90d3acaf",
   "metadata": {},
   "source": [
    "### Set a loss function"
   ]
  },
  {
   "cell_type": "code",
   "execution_count": 29,
   "id": "9029a54f",
   "metadata": {},
   "outputs": [],
   "source": [
    "loss_func = nn.CrossEntropyLoss()  # your code here"
   ]
  },
  {
   "cell_type": "markdown",
   "id": "6571461b",
   "metadata": {},
   "source": [
    "### Set an optimizer"
   ]
  },
  {
   "cell_type": "code",
   "execution_count": 32,
   "id": "6d359e0d",
   "metadata": {},
   "outputs": [],
   "source": [
    "from torch import optim\n",
    "optimizer = optim.Adam(model.parameters(), lr=learning_rate)   # your code here"
   ]
  },
  {
   "cell_type": "markdown",
   "id": "2a9f7f51",
   "metadata": {},
   "source": [
    "### Train the Model"
   ]
  },
  {
   "cell_type": "code",
   "execution_count": 36,
   "id": "45844c00",
   "metadata": {},
   "outputs": [
    {
     "name": "stdout",
     "output_type": "stream",
     "text": [
      "total_loss =  tensor(859.0302, grad_fn=<AddBackward0>)\n",
      "tensor(0.3340)\n",
      "total_loss =  tensor(696.6605, grad_fn=<AddBackward0>)\n",
      "tensor(0.4866)\n",
      "total_loss =  tensor(568.1426, grad_fn=<AddBackward0>)\n",
      "tensor(0.5648)\n",
      "total_loss =  tensor(488.4698, grad_fn=<AddBackward0>)\n",
      "tensor(0.6104)\n",
      "total_loss =  tensor(426.9862, grad_fn=<AddBackward0>)\n",
      "tensor(0.6562)\n",
      "total_loss =  tensor(382.0360, grad_fn=<AddBackward0>)\n",
      "tensor(0.6784)\n",
      "total_loss =  tensor(343.9857, grad_fn=<AddBackward0>)\n",
      "tensor(0.6944)\n",
      "total_loss =  tensor(314.5210, grad_fn=<AddBackward0>)\n",
      "tensor(0.7064)\n",
      "total_loss =  tensor(281.3339, grad_fn=<AddBackward0>)\n",
      "tensor(0.7048)\n",
      "total_loss =  tensor(254.6227, grad_fn=<AddBackward0>)\n",
      "tensor(0.7132)\n"
     ]
    }
   ],
   "source": [
    "def train(num_epochs, model, loaders):\n",
    "        \n",
    "    total_step = len(loaders['train'])\n",
    "        \n",
    "    for epoch in range(num_epochs):\n",
    "        # Train the model\n",
    "        # your code here\n",
    "        total_loss = 0.0\n",
    "        for image, label in loaders['train']:\n",
    "            #print(1)\n",
    "            output = model(image)\n",
    "            #label = label.to(device) #GPU 있으면 필요있는 코드?\n",
    "            loss = loss_func(output, label)\n",
    "            total_loss += loss\n",
    "            optimizer.zero_grad()\n",
    "            loss.backward()\n",
    "            optimizer.step()\n",
    "        print(\"total_loss = \", total_loss)\n",
    "\n",
    "                \n",
    "        # Validate the model\n",
    "        # your code here\n",
    "        with torch.no_grad():\n",
    "            total_right = 0\n",
    "            for image, label in loaders['val']:\n",
    "                output = model(image)\n",
    "                #label = label.to(device)\n",
    "                right = (output.max(1)[1] == label).sum()\n",
    "                total_right += right\n",
    "            print(total_right / len(loaders['val'].dataset))\n",
    "        \n",
    "\n",
    "train(num_epochs, model, loaders)"
   ]
  },
  {
   "cell_type": "markdown",
   "id": "b0d04219",
   "metadata": {},
   "source": [
    "### Evaluate the trained model (compute accuracy on the test dataset)"
   ]
  },
  {
   "cell_type": "code",
   "execution_count": 37,
   "id": "9bb0d88b",
   "metadata": {},
   "outputs": [
    {
     "name": "stdout",
     "output_type": "stream",
     "text": [
      "average accuracy : 0.7229999899864197\n"
     ]
    }
   ],
   "source": [
    "# Test the model\n",
    "# your code here\n",
    "\n",
    "with torch.no_grad():\n",
    "    total_right = 0\n",
    "    for image, label in loaders['test']:\n",
    "        output = model(image)\n",
    "        label = label.to(device)\n",
    "        right = (output.max(1)[1] == label).sum()\n",
    "        total_right += right\n",
    "    print(f\"average accuracy : {total_right/len(loaders['test'].dataset)}\")\n",
    "\n",
    "\n",
    "\n",
    "\n"
   ]
  },
  {
   "cell_type": "markdown",
   "id": "52d53c7a",
   "metadata": {},
   "source": [
    "### Show the results with randomly selected 10 samples from the test data"
   ]
  },
  {
   "cell_type": "code",
   "execution_count": 39,
   "id": "363b77b1",
   "metadata": {},
   "outputs": [
    {
     "name": "stdout",
     "output_type": "stream",
     "text": [
      "Predicted number: [5 8 0 0 6 5 5 2 5 1]\n",
      "Actual number:    [3 8 8 0 6 6 1 6 3 1]\n"
     ]
    }
   ],
   "source": [
    "sample = next(iter(loaders['test']))\n",
    "imgs, lbls = sample\n",
    "imgs = imgs\n",
    "lbls = lbls\n",
    "test_output = model(imgs[:10])\n",
    "predicted = torch.max(test_output, 1)[1].data.cpu().numpy().squeeze()\n",
    "labels = lbls[:10].cpu().numpy()\n",
    "print(f\"Predicted number: {predicted}\")\n",
    "print(f\"Actual number:    {labels}\")"
   ]
  },
  {
   "cell_type": "code",
   "execution_count": null,
   "id": "53e4f99d",
   "metadata": {},
   "outputs": [],
   "source": []
  }
 ],
 "metadata": {
  "kernelspec": {
   "display_name": "Python 3 (ipykernel)",
   "language": "python",
   "name": "python3"
  },
  "language_info": {
   "codemirror_mode": {
    "name": "ipython",
    "version": 3
   },
   "file_extension": ".py",
   "mimetype": "text/x-python",
   "name": "python",
   "nbconvert_exporter": "python",
   "pygments_lexer": "ipython3",
   "version": "3.9.13"
  },
  "vscode": {
   "interpreter": {
    "hash": "15f044a653836f064ef67f7c164e60a68a79fea0d9babd44cf8496556a1da232"
   }
  }
 },
 "nbformat": 4,
 "nbformat_minor": 5
}
