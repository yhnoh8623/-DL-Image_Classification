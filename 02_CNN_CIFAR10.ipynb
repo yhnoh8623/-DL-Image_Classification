{
 "cells": [
  {
   "cell_type": "markdown",
   "id": "630c3934",
   "metadata": {},
   "source": [
    "### Import Torch"
   ]
  },
  {
   "cell_type": "code",
   "execution_count": 1,
   "id": "db9a3604",
   "metadata": {},
   "outputs": [
    {
     "name": "stdout",
     "output_type": "stream",
     "text": [
      "cpu\n"
     ]
    }
   ],
   "source": [
    "import torch\n",
    "\n",
    "# Device configuration\n",
    "device = torch.device('cuda' if torch.cuda.is_available() else 'cpu')\n",
    "print(device)"
   ]
  },
  {
   "cell_type": "markdown",
   "id": "2f8557de",
   "metadata": {},
   "source": [
    "### Download CIFAR-10 dataset"
   ]
  },
  {
   "cell_type": "code",
   "execution_count": 2,
   "id": "4c41abe0",
   "metadata": {},
   "outputs": [
    {
     "name": "stdout",
     "output_type": "stream",
     "text": [
      "Downloading https://www.cs.toronto.edu/~kriz/cifar-10-python.tar.gz to ./data/cifar-10-python.tar.gz\n"
     ]
    },
    {
     "data": {
      "application/vnd.jupyter.widget-view+json": {
       "model_id": "f63c60c4e7f543c78f6e86cdbfb7b9ad",
       "version_major": 2,
       "version_minor": 0
      },
      "text/plain": [
       "  0%|          | 0/170498071 [00:00<?, ?it/s]"
      ]
     },
     "metadata": {},
     "output_type": "display_data"
    },
    {
     "name": "stdout",
     "output_type": "stream",
     "text": [
      "Extracting ./data/cifar-10-python.tar.gz to ./data\n"
     ]
    }
   ],
   "source": [
    "import torchvision\n",
    "from torchvision import datasets\n",
    "from torchvision.transforms import ToTensor\n",
    "\n",
    "train_data = datasets.CIFAR10(\n",
    "    root = './data',\n",
    "    train = True,                         \n",
    "    transform = ToTensor(), \n",
    "    download = True,            \n",
    ")\n",
    "test_data = datasets.CIFAR10(\n",
    "    root = './data', \n",
    "    train = False, \n",
    "    transform = ToTensor()\n",
    ")"
   ]
  },
  {
   "cell_type": "markdown",
   "id": "a9e1414b",
   "metadata": {},
   "source": [
    "### Visualize CIFAR-10 dataset"
   ]
  },
  {
   "cell_type": "code",
   "execution_count": 3,
   "id": "a5135460",
   "metadata": {},
   "outputs": [
    {
     "data": {
      "image/png": "[encoded data removed]",
      "text/plain": [
       "<Figure size 640x480 with 1 Axes>"
      ]
     },
     "metadata": {},
     "output_type": "display_data"
    },
    {
     "name": "stdout",
     "output_type": "stream",
     "text": [
      "bird\n"
     ]
    }
   ],
   "source": [
    "import matplotlib.pyplot as plt\n",
    "import numpy as np\n",
    "\n",
    "classes = ('plane', 'car', 'bird', 'cat',\n",
    "           'deer', 'dog', 'frog', 'horse', 'ship', 'truck')\n",
    "\n",
    "def imshow(img):\n",
    "    img = img / 2 + 0.5     # unnormalize\n",
    "    npimg = img.numpy()\n",
    "    plt.imshow(np.transpose(npimg, (1, 2, 0)))\n",
    "    plt.show()\n",
    "\n",
    "sample_idx = torch.randint(len(train_data), size=(1,)).item()\n",
    "img, label = train_data[sample_idx]\n",
    "imshow(torchvision.utils.make_grid(img))\n",
    "print(f'{classes[label]}')"
   ]
  },
  {
   "cell_type": "markdown",
   "id": "af577830",
   "metadata": {},
   "source": [
    "### Split the training dataset into training and validation datasets"
   ]
  },
  {
   "cell_type": "code",
   "execution_count": 4,
   "id": "c7a6680e",
   "metadata": {},
   "outputs": [
    {
     "data": {
      "text/plain": [
       "torch.Size([3, 32, 32])"
      ]
     },
     "execution_count": 4,
     "metadata": {},
     "output_type": "execute_result"
    }
   ],
   "source": [
    "from sklearn.model_selection import train_test_split\n",
    "\n",
    "# your code here\n",
    "train_data, val_data = train_test_split(train_data, test_size = 0.1, random_state = 123, shuffle = True)\n",
    "train_data[0][0].size()\n"
   ]
  },
  {
   "cell_type": "markdown",
   "id": "7c47cff3",
   "metadata": {},
   "source": [
    "### Prepare for the datasets using dataloader"
   ]
  },
  {
   "cell_type": "code",
   "execution_count": 5,
   "id": "97748f81",
   "metadata": {},
   "outputs": [],
   "source": [
    "from torch.utils.data import DataLoader\n",
    "\n",
    "loaders = {\n",
    "    'train' : torch.utils.data.DataLoader(train_data, \n",
    "                                          batch_size=100, \n",
    "                                          shuffle=True, \n",
    "                                          num_workers=1),\n",
    "    'val'  : torch.utils.data.DataLoader(val_data, \n",
    "                                          batch_size=100, \n",
    "                                          shuffle=False, \n",
    "                                          num_workers=1),\n",
    "    'test'  : torch.utils.data.DataLoader(test_data, \n",
    "                                          batch_size=100, \n",
    "                                          shuffle=False, \n",
    "                                          num_workers=1),\n",
    "}"
   ]
  },
  {
   "cell_type": "markdown",
   "id": "4bd3c25c",
   "metadata": {},
   "source": [
    "### Import nn module from torch"
   ]
  },
  {
   "cell_type": "code",
   "execution_count": 6,
   "id": "ee0eec7e",
   "metadata": {},
   "outputs": [],
   "source": [
    "from torch import nn\n",
    "import torch.nn.functional as F"
   ]
  },
  {
   "cell_type": "markdown",
   "id": "1ce0003c",
   "metadata": {},
   "source": [
    "### Set hyperparameters"
   ]
  },
  {
   "cell_type": "code",
   "execution_count": 7,
   "id": "e1681ea0",
   "metadata": {},
   "outputs": [],
   "source": [
    "# Set hyperparameters before building the model\n",
    "num_classes = 10\n",
    "batch_size = 100\n",
    "num_epochs = 10\n",
    "learning_rate = 0.01 "
   ]
  },
  {
   "cell_type": "markdown",
   "id": "daab6dba",
   "metadata": {},
   "source": [
    "### Build a CNN model for image classification task"
   ]
  },
  {
   "cell_type": "code",
   "execution_count": 12,
   "id": "28dfcba8",
   "metadata": {},
   "outputs": [
    {
     "name": "stdout",
     "output_type": "stream",
     "text": [
      "CNN(\n",
      "  (c1): Conv2d(3, 32, kernel_size=(3, 3), stride=(1, 1), padding=(1, 1))\n",
      "  (c2): Conv2d(32, 64, kernel_size=(3, 3), stride=(1, 1), padding=(1, 1))\n",
      "  (pool): MaxPool2d(kernel_size=2, stride=2, padding=0, dilation=1, ceil_mode=False)\n",
      "  (l1): Linear(in_features=4096, out_features=128, bias=True)\n",
      "  (l2): Linear(in_features=128, out_features=10, bias=True)\n",
      ")\n"
     ]
    }
   ],
   "source": [
    "class CNN(nn.Module):\n",
    "    def __init__(self, num_classes):\n",
    "        super(CNN, self).__init__()        \n",
    "        # your code here\n",
    "        self.c1 = nn.Conv2d(3, 32, 3, padding=1)\n",
    "        self.c2 = nn.Conv2d(32, 64, 3, padding=1)\n",
    "        self.pool = nn.MaxPool2d(2, 2)\n",
    "        self.l1 = nn.Linear(64*8*8, 128)\n",
    "        self.l2 = nn.Linear(128, 10)\n",
    "                \n",
    "    def forward(self, x):\n",
    "        # your code here\n",
    "        x = self.c1(x)\n",
    "        x = nn.functional.relu(x)\n",
    "        x = self.pool(x)\n",
    "        x = self.c2(x)\n",
    "        x = nn.functional.relu(x)\n",
    "        x = self.pool(x)\n",
    "        x = x.view(-1, 64*8*8)\n",
    "        x = self.l1(x)\n",
    "        x = nn.functional.relu(x)\n",
    "        x = self.l2(x)\n",
    "        \n",
    "        return x# your code here\n",
    "        \n",
    "\n",
    "model = CNN(num_classes).to(device)\n",
    "print(model)"
   ]
  },
  {
   "cell_type": "markdown",
   "id": "90d3acaf",
   "metadata": {},
   "source": [
    "### Set a loss function"
   ]
  },
  {
   "cell_type": "code",
   "execution_count": 13,
   "id": "9029a54f",
   "metadata": {},
   "outputs": [],
   "source": [
    "loss_func = nn.CrossEntropyLoss().to(device)  # your code here"
   ]
  },
  {
   "cell_type": "markdown",
   "id": "6571461b",
   "metadata": {},
   "source": [
    "### Set an optimizer"
   ]
  },
  {
   "cell_type": "code",
   "execution_count": 14,
   "id": "6d359e0d",
   "metadata": {},
   "outputs": [],
   "source": [
    "from torch import optim\n",
    "optimizer = optim.Adam(model.parameters(), lr=learning_rate)  # your code here"
   ]
  },
  {
   "cell_type": "markdown",
   "id": "2a9f7f51",
   "metadata": {},
   "source": [
    "### Train the CNN Model"
   ]
  },
  {
   "cell_type": "code",
   "execution_count": 15,
   "id": "45844c00",
   "metadata": {},
   "outputs": [
    {
     "name": "stdout",
     "output_type": "stream",
     "text": [
      "total_loss =  tensor(750.7509, grad_fn=<AddBackward0>)\n",
      "tensor(0.4976)\n",
      "total_loss =  tensor(581.1926, grad_fn=<AddBackward0>)\n",
      "tensor(0.5582)\n",
      "total_loss =  tensor(527.9825, grad_fn=<AddBackward0>)\n",
      "tensor(0.5696)\n",
      "total_loss =  tensor(495.3318, grad_fn=<AddBackward0>)\n",
      "tensor(0.5744)\n",
      "total_loss =  tensor(479.2863, grad_fn=<AddBackward0>)\n",
      "tensor(0.5922)\n",
      "total_loss =  tensor(465.3440, grad_fn=<AddBackward0>)\n",
      "tensor(0.5852)\n",
      "total_loss =  tensor(453.3148, grad_fn=<AddBackward0>)\n",
      "tensor(0.6028)\n",
      "total_loss =  tensor(433.6369, grad_fn=<AddBackward0>)\n",
      "tensor(0.6098)\n",
      "total_loss =  tensor(425.9174, grad_fn=<AddBackward0>)\n",
      "tensor(0.5924)\n",
      "total_loss =  tensor(418.7503, grad_fn=<AddBackward0>)\n",
      "tensor(0.5730)\n"
     ]
    }
   ],
   "source": [
    "def train(num_epochs, model, loaders):\n",
    "        \n",
    "    total_step = len(loaders['train'])\n",
    "        \n",
    "    for epoch in range(num_epochs):\n",
    "        # Train the model\n",
    "        # your code here\n",
    "        total_loss = 0.0\n",
    "        for image, label in loaders['train']:\n",
    "            output = model(image)\n",
    "            #label = label.to(device) #GPU 있으면 필요있는 코드?\n",
    "            loss = loss_func(output, label)\n",
    "            total_loss += loss\n",
    "            optimizer.zero_grad()\n",
    "            loss.backward()\n",
    "            optimizer.step()\n",
    "        print(\"total_loss = \", total_loss)\n",
    "\n",
    "                \n",
    "        # Validate the model\n",
    "        # your code here\n",
    "        with torch.no_grad():\n",
    "            total_right = 0\n",
    "            for image, label in loaders['val']:\n",
    "                output = model(image)\n",
    "                #label = label.to(device)\n",
    "                right = (output.max(1)[1] == label).sum()\n",
    "                total_right += right\n",
    "            print(total_right / len(loaders['val'].dataset))\n",
    "        \n",
    "        \n",
    "        \n",
    "train(num_epochs, model, loaders)"
   ]
  },
  {
   "cell_type": "markdown",
   "id": "b0d04219",
   "metadata": {},
   "source": [
    "### Evaluate the trained CNN model (compute accuracy on the test dataset)"
   ]
  },
  {
   "cell_type": "code",
   "execution_count": 16,
   "id": "9bb0d88b",
   "metadata": {},
   "outputs": [
    {
     "name": "stdout",
     "output_type": "stream",
     "text": [
      "average accuracy : 0.5720999836921692\n"
     ]
    }
   ],
   "source": [
    "# Test the model\n",
    "# your code here\n",
    "with torch.no_grad():\n",
    "    total_right = 0\n",
    "    for image, label in loaders['test']:\n",
    "        output = model(image)\n",
    "        label = label.to(device)\n",
    "        right = (output.max(1)[1] == label).sum()\n",
    "        total_right += right\n",
    "    print(f\"average accuracy : {total_right/len(loaders['test'].dataset)}\")"
   ]
  },
  {
   "cell_type": "markdown",
   "id": "52d53c7a",
   "metadata": {},
   "source": [
    "### Show the results with randomly selected 10 samples from the test data"
   ]
  },
  {
   "cell_type": "code",
   "execution_count": 17,
   "id": "363b77b1",
   "metadata": {},
   "outputs": [
    {
     "name": "stdout",
     "output_type": "stream",
     "text": [
      "Predicted number: [3 8 9 8 6 6 1 6 3 1]\n",
      "Actual number:    [3 8 8 0 6 6 1 6 3 1]\n"
     ]
    }
   ],
   "source": [
    "sample = next(iter(loaders['test']))\n",
    "imgs, lbls = sample\n",
    "imgs = imgs\n",
    "lbls = lbls\n",
    "test_output = model(imgs[:10])\n",
    "predicted = torch.max(test_output, 1)[1].data.cpu().numpy().squeeze()\n",
    "labels = lbls[:10].cpu().numpy()\n",
    "print(f\"Predicted number: {predicted}\")\n",
    "print(f\"Actual number:    {labels}\")"
   ]
  },
  {
   "cell_type": "code",
   "execution_count": null,
   "id": "071e97d1",
   "metadata": {},
   "outputs": [],
   "source": []
  }
 ],
 "metadata": {
  "kernelspec": {
   "display_name": "Python 3 (ipykernel)",
   "language": "python",
   "name": "python3"
  },
  "language_info": {
   "codemirror_mode": {
    "name": "ipython",
    "version": 3
   },
   "file_extension": ".py",
   "mimetype": "text/x-python",
   "name": "python",
   "nbconvert_exporter": "python",
   "pygments_lexer": "ipython3",
   "version": "3.9.13"
  },
  "vscode": {
   "interpreter": {
    "hash": "15f044a653836f064ef67f7c164e60a68a79fea0d9babd44cf8496556a1da232"
   }
  }
 },
 "nbformat": 4,
 "nbformat_minor": 5
}
